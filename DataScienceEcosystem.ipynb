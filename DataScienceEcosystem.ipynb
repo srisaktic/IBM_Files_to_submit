{
 "cells": [
  {
   "cell_type": "markdown",
   "id": "a6de93b0-e313-4f8f-8ad1-392fd3f3b366",
   "metadata": {},
   "source": [
    "Data Science Tools and Ecosystem"
   ]
  },
  {
   "cell_type": "markdown",
   "id": "56e1fe75-4936-491a-9366-d8e68861339f",
   "metadata": {},
   "source": [
    "In this notebook, Data Science Tools and Ecosystem are summarized."
   ]
  },
  {
   "cell_type": "markdown",
   "id": "0311e2c0-4fba-46d5-8db7-f2c531817e8a",
   "metadata": {},
   "source": [
    "Some of the popular languages that Data Scientists use are:\n",
    "\n",
    "1. Python\n",
    "2. R\n",
    "3. SQL\n",
    "4. Julia\n",
    "5. Scala\n"
   ]
  },
  {
   "cell_type": "markdown",
   "id": "0c443895-2201-475f-8d36-42ec726cf4c8",
   "metadata": {},
   "source": [
    "Some of the commonly used libraries used by Data Scientists include:\n",
    "\n",
    "1. NumPy\n",
    "2. Pandas\n",
    "3. Scikit\n",
    "4. Matplotlib"
   ]
  },
  {
   "cell_type": "markdown",
   "id": "3cd21baa-46f6-45e1-a161-b703b0aa23a9",
   "metadata": {},
   "source": [
    "| Data Science Tools        |\n",
    "|---------------------------|\n",
    "| Jupyter Notebooks         |\n",
    "| RStudio                   |\n",
    "| Apache Zeppelin           |\n"
   ]
  },
  {
   "cell_type": "markdown",
   "id": "c783ceea-0dad-4c84-9e9c-22c28bd7e615",
   "metadata": {},
   "source": [
    "### Below are a few examples of evaluating arithmetic expressions in Python"
   ]
  },
  {
   "cell_type": "code",
   "execution_count": 3,
   "id": "6976c34b-6041-4c11-afc8-86d7521ea695",
   "metadata": {},
   "outputs": [
    {
     "data": {
      "text/plain": [
       "17"
      ]
     },
     "execution_count": 3,
     "metadata": {},
     "output_type": "execute_result"
    }
   ],
   "source": [
    "#This a simple arithmetic expression to mutiply then add integers\n",
    "(3*4)+5"
   ]
  },
  {
   "cell_type": "code",
   "execution_count": 4,
   "id": "4e5f1d19-d99e-480e-894f-fc95e13052c7",
   "metadata": {},
   "outputs": [
    {
     "data": {
      "text/plain": [
       "3.3333333333333335"
      ]
     },
     "execution_count": 4,
     "metadata": {},
     "output_type": "execute_result"
    }
   ],
   "source": [
    "# This will convert 200 minutes to hours by dividing by 60\n",
    "200 / 60\n"
   ]
  },
  {
   "cell_type": "markdown",
   "id": "b402e8ed-47c3-4c03-aaec-2d95cbac3e8b",
   "metadata": {},
   "source": [
    "**Objectives:**\n",
    "\n",
    "- List popular languages for Data Science.\n",
    "- Explore commonly used libraries in Data Science.\n",
    "- Demonstrate basic arithmetic expressions in Python.\n",
    "- Convert minutes into hours using Python.\n"
   ]
  },
  {
   "cell_type": "markdown",
   "id": "ddedae0f-d387-479d-88df-a8c9a8992e8c",
   "metadata": {},
   "source": [
    "## Author\n",
    "\n",
    "Sri Sakticharan\n"
   ]
  },
  {
   "cell_type": "code",
   "execution_count": null,
   "id": "fffb9abb-5fa2-40dc-b050-667176a7213c",
   "metadata": {},
   "outputs": [],
   "source": []
  }
 ],
 "metadata": {
  "kernelspec": {
   "display_name": "Python 3 (ipykernel)",
   "language": "python",
   "name": "python3"
  },
  "language_info": {
   "codemirror_mode": {
    "name": "ipython",
    "version": 3
   },
   "file_extension": ".py",
   "mimetype": "text/x-python",
   "name": "python",
   "nbconvert_exporter": "python",
   "pygments_lexer": "ipython3",
   "version": "3.11.7"
  }
 },
 "nbformat": 4,
 "nbformat_minor": 5
}
